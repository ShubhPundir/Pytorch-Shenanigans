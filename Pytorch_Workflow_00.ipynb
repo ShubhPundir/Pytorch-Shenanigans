{
 "cells": [
  {
   "cell_type": "code",
   "execution_count": 6,
   "metadata": {
    "id": "nR2JB0kkHCRG"
   },
   "outputs": [],
   "source": [
    "import torch\n",
    "from torch import nn\n",
    "import numpy as np\n",
    "from matplotlib import pyplot as plt\n",
    "%matplotlib inline"
   ]
  },
  {
   "cell_type": "code",
   "execution_count": 7,
   "metadata": {
    "colab": {
     "base_uri": "https://localhost:8080/"
    },
    "id": "Jp912Mm6HD6Y",
    "outputId": "38221945-ce46-4132-cd8d-f438ac930c95"
   },
   "outputs": [
    {
     "data": {
      "text/plain": [
       "(tensor([[0.0000],\n",
       "         [0.0200],\n",
       "         [0.0400],\n",
       "         [0.0600],\n",
       "         [0.0800],\n",
       "         [0.1000],\n",
       "         [0.1200],\n",
       "         [0.1400],\n",
       "         [0.1600],\n",
       "         [0.1800]]),\n",
       " tensor([[0.3000],\n",
       "         [0.3140],\n",
       "         [0.3280],\n",
       "         [0.3420],\n",
       "         [0.3560],\n",
       "         [0.3700],\n",
       "         [0.3840],\n",
       "         [0.3980],\n",
       "         [0.4120],\n",
       "         [0.4260]]))"
      ]
     },
     "execution_count": 7,
     "metadata": {},
     "output_type": "execute_result"
    }
   ],
   "source": [
    "weight = 0.7\n",
    "bias = 0.3\n",
    "\n",
    "## creating data\n",
    "\n",
    "start = 0\n",
    "end = 1\n",
    "step = 0.02\n",
    "\n",
    "X = torch.arange(start,end,step).unsqueeze(dim=1)\n",
    "y = weight * X  + bias\n",
    "X[:10], y[:10]"
   ]
  },
  {
   "cell_type": "code",
   "execution_count": 8,
   "metadata": {
    "colab": {
     "base_uri": "https://localhost:8080/"
    },
    "id": "SZ-crPD8HEBC",
    "outputId": "d04492df-3d9b-4224-ac35-847ff1da5119",
    "scrolled": true
   },
   "outputs": [
    {
     "data": {
      "text/plain": [
       "(tensor([[0.0000],\n",
       "         [0.0200],\n",
       "         [0.0400],\n",
       "         [0.0600],\n",
       "         [0.0800],\n",
       "         [0.1000],\n",
       "         [0.1200],\n",
       "         [0.1400],\n",
       "         [0.1600],\n",
       "         [0.1800],\n",
       "         [0.2000],\n",
       "         [0.2200],\n",
       "         [0.2400],\n",
       "         [0.2600],\n",
       "         [0.2800],\n",
       "         [0.3000],\n",
       "         [0.3200],\n",
       "         [0.3400],\n",
       "         [0.3600],\n",
       "         [0.3800],\n",
       "         [0.4000],\n",
       "         [0.4200],\n",
       "         [0.4400],\n",
       "         [0.4600],\n",
       "         [0.4800],\n",
       "         [0.5000],\n",
       "         [0.5200],\n",
       "         [0.5400],\n",
       "         [0.5600],\n",
       "         [0.5800],\n",
       "         [0.6000],\n",
       "         [0.6200],\n",
       "         [0.6400],\n",
       "         [0.6600],\n",
       "         [0.6800],\n",
       "         [0.7000],\n",
       "         [0.7200],\n",
       "         [0.7400],\n",
       "         [0.7600],\n",
       "         [0.7800]]),\n",
       " tensor([[0.3000],\n",
       "         [0.3140],\n",
       "         [0.3280],\n",
       "         [0.3420],\n",
       "         [0.3560],\n",
       "         [0.3700],\n",
       "         [0.3840],\n",
       "         [0.3980],\n",
       "         [0.4120],\n",
       "         [0.4260],\n",
       "         [0.4400],\n",
       "         [0.4540],\n",
       "         [0.4680],\n",
       "         [0.4820],\n",
       "         [0.4960],\n",
       "         [0.5100],\n",
       "         [0.5240],\n",
       "         [0.5380],\n",
       "         [0.5520],\n",
       "         [0.5660],\n",
       "         [0.5800],\n",
       "         [0.5940],\n",
       "         [0.6080],\n",
       "         [0.6220],\n",
       "         [0.6360],\n",
       "         [0.6500],\n",
       "         [0.6640],\n",
       "         [0.6780],\n",
       "         [0.6920],\n",
       "         [0.7060],\n",
       "         [0.7200],\n",
       "         [0.7340],\n",
       "         [0.7480],\n",
       "         [0.7620],\n",
       "         [0.7760],\n",
       "         [0.7900],\n",
       "         [0.8040],\n",
       "         [0.8180],\n",
       "         [0.8320],\n",
       "         [0.8460]]))"
      ]
     },
     "execution_count": 8,
     "metadata": {},
     "output_type": "execute_result"
    }
   ],
   "source": [
    "train_split = int(0.8 * len(X))\n",
    "X_train, y_train, X_test, y_test = X[:train_split], y[:train_split], X[train_split:], y[train_split:]\n",
    "X_train, y_train"
   ]
  },
  {
   "cell_type": "code",
   "execution_count": 9,
   "metadata": {
    "id": "_OBI5BrRHEDJ"
   },
   "outputs": [],
   "source": [
    "def plot_predictions(train_data=X_train,\n",
    "                     train_lables=y_train,\n",
    "                     test_data = X_test,\n",
    "                     test_labels = y_test,\n",
    "                     predictions = None):\n",
    "    '''\n",
    "    Plots training data, test data and compares predicitons\n",
    "    '''\n",
    "\n",
    "    plt.figure(figsize=(15,10))\n",
    "    plt.scatter(train_data,train_lables,s=5,c='b',label='Training data')\n",
    "\n",
    "    plt.scatter(test_data,test_labels,s=10,c='g',label='Test Data')\n",
    "\n",
    "    if predictions is not None:\n",
    "        plt.scatter(test_data,predictions,s=5,c='r',label='Predictions')\n",
    "\n",
    "    plt.legend(prop={'size':14})\n",
    "    plt.show"
   ]
  },
  {
   "cell_type": "code",
   "execution_count": null,
   "metadata": {},
   "outputs": [],
   "source": []
  },
  {
   "cell_type": "code",
   "execution_count": 10,
   "metadata": {},
   "outputs": [
    {
     "data": {
      "text/plain": [
       "[<matplotlib.lines.Line2D at 0x128145aa310>,\n",
       " <matplotlib.lines.Line2D at 0x12814a7d590>]"
      ]
     },
     "execution_count": 10,
     "metadata": {},
     "output_type": "execute_result"
    },
    {
     "data": {
      "image/png": "[encoded data removed]",
      "text/plain": [
       "<Figure size 640x480 with 1 Axes>"
      ]
     },
     "metadata": {},
     "output_type": "display_data"
    }
   ],
   "source": [
    "x = [1, 2, 3]\n",
    "y = np.array([[1, 2], [3, 4], [5, 6]])\n",
    "plt.plot(x, y)"
   ]
  },
  {
   "cell_type": "code",
   "execution_count": 11,
   "metadata": {
    "colab": {
     "base_uri": "https://localhost:8080/",
     "height": 438
    },
    "id": "5AZgQxkWHEFw",
    "outputId": "f5ca7c00-0504-4fdc-e613-c64d91c95da2"
   },
   "outputs": [
    {
     "data": {
      "image/png": "[encoded data removed]",
      "text/plain": [
       "<Figure size 1500x1000 with 1 Axes>"
      ]
     },
     "metadata": {},
     "output_type": "display_data"
    }
   ],
   "source": [
    "plot_predictions()"
   ]
  },
  {
   "cell_type": "code",
   "execution_count": 12,
   "metadata": {
    "id": "MntGlVWTHEHi"
   },
   "outputs": [],
   "source": [
    "## Create a linear regression model class"
   ]
  },
  {
   "cell_type": "code",
   "execution_count": 13,
   "metadata": {
    "id": "jyXHN5XuHEJq"
   },
   "outputs": [],
   "source": [
    "class LinearRegressionModel(nn.Module):\n",
    "    def __init__(self):\n",
    "        super().__init__()\n",
    "        self.weights = nn.Parameter(torch.randn(1,\n",
    "                                               requires_grad=True,\n",
    "                                               dtype=torch.float))\n",
    "        self.bias = nn.Parameter(torch.randn(1,\n",
    "                                             requires_grad=True,\n",
    "                                             dtype=torch.float))\n",
    "\n",
    "    def forward(self,x:torch.Tensor) -> torch.Tensor:\n",
    "        return self.weights * x + self.bias # this is the linear regression formula\n",
    "    # Gradient descent Algorithm is used\n"
   ]
  },
  {
   "cell_type": "code",
   "execution_count": 14,
   "metadata": {
    "colab": {
     "base_uri": "https://localhost:8080/"
    },
    "id": "vPzn12-jhO1u",
    "outputId": "1ed97d9d-4ab4-4952-f7a9-6bdf1db851b4"
   },
   "outputs": [
    {
     "data": {
      "text/plain": [
       "(Parameter containing:\n",
       " tensor([-0.8807], requires_grad=True),\n",
       " Parameter containing:\n",
       " tensor([1.0734], requires_grad=True))"
      ]
     },
     "execution_count": 14,
     "metadata": {},
     "output_type": "execute_result"
    }
   ],
   "source": [
    "l = LinearRegressionModel()\n",
    "l.weights,l.bias"
   ]
  },
  {
   "cell_type": "code",
   "execution_count": 15,
   "metadata": {
    "colab": {
     "base_uri": "https://localhost:8080/"
    },
    "id": "OEHIVcw-HEN-",
    "outputId": "ac598793-f6b9-4374-a04f-b0c217eec0ff"
   },
   "outputs": [
    {
     "name": "stdout",
     "output_type": "stream",
     "text": [
      "[Parameter containing:\n",
      "tensor([0.3367], requires_grad=True), Parameter containing:\n",
      "tensor([0.1288], requires_grad=True)]\n"
     ]
    }
   ],
   "source": [
    "## Create a random seed\n",
    "torch.manual_seed(42)\n",
    "\n",
    "model_0 = LinearRegressionModel()\n",
    "print(list(model_0.parameters()))"
   ]
  },
  {
   "cell_type": "code",
   "execution_count": 16,
   "metadata": {
    "colab": {
     "base_uri": "https://localhost:8080/"
    },
    "id": "FNJrlcSJhRiz",
    "outputId": "4a2fd213-3688-4302-ca3f-35da21cf4f74"
   },
   "outputs": [
    {
     "data": {
      "text/plain": [
       "OrderedDict([('weights', tensor([0.3367])), ('bias', tensor([0.1288]))])"
      ]
     },
     "execution_count": 16,
     "metadata": {},
     "output_type": "execute_result"
    }
   ],
   "source": [
    "## List named parameters\n",
    "model_0.state_dict()"
   ]
  },
  {
   "cell_type": "code",
   "execution_count": 17,
   "metadata": {
    "colab": {
     "base_uri": "https://localhost:8080/"
    },
    "id": "4GozZ5ARhRlT",
    "outputId": "a27b2f86-c091-4407-b1c4-63ec7c3e073d"
   },
   "outputs": [
    {
     "data": {
      "text/plain": [
       "(0.7, 0.3)"
      ]
     },
     "execution_count": 17,
     "metadata": {},
     "output_type": "execute_result"
    }
   ],
   "source": [
    "weight, bias"
   ]
  },
  {
   "cell_type": "code",
   "execution_count": 18,
   "metadata": {
    "colab": {
     "base_uri": "https://localhost:8080/"
    },
    "id": "Hv6siNJGhRnl",
    "outputId": "3c95b932-835b-4af0-da2e-b3070cb23944"
   },
   "outputs": [
    {
     "data": {
      "text/plain": [
       "tensor([[0.3982],\n",
       "        [0.4049],\n",
       "        [0.4116],\n",
       "        [0.4184],\n",
       "        [0.4251],\n",
       "        [0.4318],\n",
       "        [0.4386],\n",
       "        [0.4453],\n",
       "        [0.4520],\n",
       "        [0.4588]])"
      ]
     },
     "execution_count": 18,
     "metadata": {},
     "output_type": "execute_result"
    }
   ],
   "source": [
    "with torch.inference_mode():\n",
    "    y_preds = model_0(X_test)\n",
    "y_preds"
   ]
  },
  {
   "cell_type": "code",
   "execution_count": 19,
   "metadata": {
    "colab": {
     "base_uri": "https://localhost:8080/"
    },
    "id": "-OLYHMaBIxKi",
    "outputId": "23a402f2-e61c-49eb-fd12-9b589c12b6bf"
   },
   "outputs": [
    {
     "data": {
      "text/plain": [
       "tensor([[0.8600],\n",
       "        [0.8740],\n",
       "        [0.8880],\n",
       "        [0.9020],\n",
       "        [0.9160],\n",
       "        [0.9300],\n",
       "        [0.9440],\n",
       "        [0.9580],\n",
       "        [0.9720],\n",
       "        [0.9860]])"
      ]
     },
     "execution_count": 19,
     "metadata": {},
     "output_type": "execute_result"
    }
   ],
   "source": [
    "y_test"
   ]
  },
  {
   "cell_type": "code",
   "execution_count": 20,
   "metadata": {
    "colab": {
     "base_uri": "https://localhost:8080/",
     "height": 438
    },
    "id": "9KAJzBXFHEQW",
    "outputId": "4bf0270e-8c72-4ef6-8c25-622bd0d67b3a"
   },
   "outputs": [
    {
     "data": {
      "image/png": "[encoded data removed]",
      "text/plain": [
       "<Figure size 1500x1000 with 1 Axes>"
      ]
     },
     "metadata": {},
     "output_type": "display_data"
    }
   ],
   "source": [
    "plot_predictions(predictions=y_preds)"
   ]
  },
  {
   "cell_type": "code",
   "execution_count": 21,
   "metadata": {
    "colab": {
     "base_uri": "https://localhost:8080/"
    },
    "id": "8fQGf37TIxnj",
    "outputId": "4ec790a5-2a46-4a5f-e9b9-98ef06318921"
   },
   "outputs": [
    {
     "data": {
      "text/plain": [
       "tensor([[0.3982],\n",
       "        [0.4049],\n",
       "        [0.4116],\n",
       "        [0.4184],\n",
       "        [0.4251],\n",
       "        [0.4318],\n",
       "        [0.4386],\n",
       "        [0.4453],\n",
       "        [0.4520],\n",
       "        [0.4588]])"
      ]
     },
     "execution_count": 21,
     "metadata": {},
     "output_type": "execute_result"
    }
   ],
   "source": [
    "with torch.no_grad():\n",
    "    y_preds = model_0(X_test)\n",
    "y_preds"
   ]
  },
  {
   "cell_type": "code",
   "execution_count": 22,
   "metadata": {
    "colab": {
     "base_uri": "https://localhost:8080/"
    },
    "id": "KionhHLkmCpN",
    "outputId": "cc959435-9a31-4965-829a-a8275faa0ad1"
   },
   "outputs": [
    {
     "data": {
      "text/plain": [
       "tensor([[0.3982],\n",
       "        [0.4049],\n",
       "        [0.4116],\n",
       "        [0.4184],\n",
       "        [0.4251],\n",
       "        [0.4318],\n",
       "        [0.4386],\n",
       "        [0.4453],\n",
       "        [0.4520],\n",
       "        [0.4588]], grad_fn=<AddBackward0>)"
      ]
     },
     "execution_count": 22,
     "metadata": {},
     "output_type": "execute_result"
    }
   ],
   "source": [
    "y_preds = model_0(X_test)\n",
    "y_preds"
   ]
  },
  {
   "cell_type": "code",
   "execution_count": 23,
   "metadata": {
    "colab": {
     "base_uri": "https://localhost:8080/",
     "height": 176
    },
    "id": "0ye6oX44mCr2",
    "outputId": "6ec379d9-3ecc-4d4d-f5c0-6f32a630c710"
   },
   "outputs": [],
   "source": [
    "## Setup a loss functions\n",
    "\n",
    "loss_fn = nn.L1Loss()\n",
    "\n",
    "## Setup an optimizer\n",
    "\n",
    "optimizer = torch.optim.SGD(params=model_0.parameters(),\n",
    "                            lr=0.01) ## lr = learning rate"
   ]
  },
  {
   "cell_type": "code",
   "execution_count": 24,
   "metadata": {
    "id": "L7BFYMjTmCwv"
   },
   "outputs": [],
   "source": [
    "## Building a training loop and testing loop in pytorch"
   ]
  },
  {
   "cell_type": "code",
   "execution_count": 25,
   "metadata": {},
   "outputs": [
    {
     "data": {
      "text/plain": [
       "[Parameter containing:\n",
       " tensor([0.3367], requires_grad=True),\n",
       " Parameter containing:\n",
       " tensor([0.1288], requires_grad=True)]"
      ]
     },
     "execution_count": 25,
     "metadata": {},
     "output_type": "execute_result"
    }
   ],
   "source": [
    "list(model_0.parameters())"
   ]
  },
  {
   "cell_type": "code",
   "execution_count": 26,
   "metadata": {
    "id": "rWczzOQdmCxZ"
   },
   "outputs": [
    {
     "name": "stdout",
     "output_type": "stream",
     "text": [
      "Loss: 0.31288138031959534\n",
      "MODEL Params: OrderedDict([('weights', tensor([0.3406])), ('bias', tensor([0.1388]))])\n",
      "Loss: 0.3013603389263153\n",
      "MODEL Params: OrderedDict([('weights', tensor([0.3445])), ('bias', tensor([0.1488]))])\n",
      "Loss: 0.28983935713768005\n",
      "MODEL Params: OrderedDict([('weights', tensor([0.3484])), ('bias', tensor([0.1588]))])\n",
      "Loss: 0.2783183455467224\n",
      "MODEL Params: OrderedDict([('weights', tensor([0.3523])), ('bias', tensor([0.1688]))])\n",
      "Loss: 0.26679736375808716\n",
      "MODEL Params: OrderedDict([('weights', tensor([0.3562])), ('bias', tensor([0.1788]))])\n",
      "Loss: 0.2552763521671295\n",
      "MODEL Params: OrderedDict([('weights', tensor([0.3601])), ('bias', tensor([0.1888]))])\n",
      "Loss: 0.24375534057617188\n",
      "MODEL Params: OrderedDict([('weights', tensor([0.3640])), ('bias', tensor([0.1988]))])\n",
      "Loss: 0.23223432898521423\n",
      "MODEL Params: OrderedDict([('weights', tensor([0.3679])), ('bias', tensor([0.2088]))])\n",
      "Loss: 0.22071333229541779\n",
      "MODEL Params: OrderedDict([('weights', tensor([0.3718])), ('bias', tensor([0.2188]))])\n",
      "Loss: 0.20919232070446014\n",
      "MODEL Params: OrderedDict([('weights', tensor([0.3757])), ('bias', tensor([0.2288]))])\n",
      "Loss: 0.1976713240146637\n",
      "MODEL Params: OrderedDict([('weights', tensor([0.3796])), ('bias', tensor([0.2388]))])\n",
      "Loss: 0.18615034222602844\n",
      "MODEL Params: OrderedDict([('weights', tensor([0.3835])), ('bias', tensor([0.2488]))])\n",
      "Loss: 0.1746293306350708\n",
      "MODEL Params: OrderedDict([('weights', tensor([0.3874])), ('bias', tensor([0.2588]))])\n",
      "Loss: 0.16310831904411316\n",
      "MODEL Params: OrderedDict([('weights', tensor([0.3913])), ('bias', tensor([0.2688]))])\n",
      "Loss: 0.1515873372554779\n",
      "MODEL Params: OrderedDict([('weights', tensor([0.3952])), ('bias', tensor([0.2788]))])\n",
      "Loss: 0.14006635546684265\n",
      "MODEL Params: OrderedDict([('weights', tensor([0.3991])), ('bias', tensor([0.2888]))])\n",
      "Loss: 0.1285453587770462\n",
      "MODEL Params: OrderedDict([('weights', tensor([0.4030])), ('bias', tensor([0.2988]))])\n",
      "Loss: 0.11702437698841095\n",
      "MODEL Params: OrderedDict([('weights', tensor([0.4069])), ('bias', tensor([0.3088]))])\n",
      "Loss: 0.1060912236571312\n",
      "MODEL Params: OrderedDict([('weights', tensor([0.4108])), ('bias', tensor([0.3178]))])\n",
      "Loss: 0.09681284427642822\n",
      "MODEL Params: OrderedDict([('weights', tensor([0.4146])), ('bias', tensor([0.3258]))])\n",
      "Loss: 0.08908725529909134\n",
      "MODEL Params: OrderedDict([('weights', tensor([0.4184])), ('bias', tensor([0.3333]))])\n",
      "Loss: 0.08227583020925522\n",
      "MODEL Params: OrderedDict([('weights', tensor([0.4222])), ('bias', tensor([0.3403]))])\n",
      "Loss: 0.07638873159885406\n",
      "MODEL Params: OrderedDict([('weights', tensor([0.4258])), ('bias', tensor([0.3463]))])\n",
      "Loss: 0.07160007208585739\n",
      "MODEL Params: OrderedDict([('weights', tensor([0.4293])), ('bias', tensor([0.3518]))])\n",
      "Loss: 0.06747635453939438\n",
      "MODEL Params: OrderedDict([('weights', tensor([0.4328])), ('bias', tensor([0.3568]))])\n",
      "Loss: 0.06395438313484192\n",
      "MODEL Params: OrderedDict([('weights', tensor([0.4361])), ('bias', tensor([0.3613]))])\n",
      "Loss: 0.06097004935145378\n",
      "MODEL Params: OrderedDict([('weights', tensor([0.4394])), ('bias', tensor([0.3653]))])\n",
      "Loss: 0.05845819041132927\n",
      "MODEL Params: OrderedDict([('weights', tensor([0.4425])), ('bias', tensor([0.3688]))])\n",
      "Loss: 0.05635259300470352\n",
      "MODEL Params: OrderedDict([('weights', tensor([0.4455])), ('bias', tensor([0.3718]))])\n",
      "Loss: 0.0545857772231102\n",
      "MODEL Params: OrderedDict([('weights', tensor([0.4483])), ('bias', tensor([0.3743]))])\n",
      "Loss: 0.053148526698350906\n",
      "MODEL Params: OrderedDict([('weights', tensor([0.4512])), ('bias', tensor([0.3768]))])\n",
      "Loss: 0.05181945487856865\n",
      "MODEL Params: OrderedDict([('weights', tensor([0.4539])), ('bias', tensor([0.3788]))])\n",
      "Loss: 0.05069301277399063\n",
      "MODEL Params: OrderedDict([('weights', tensor([0.4564])), ('bias', tensor([0.3803]))])\n",
      "Loss: 0.0498228520154953\n",
      "MODEL Params: OrderedDict([('weights', tensor([0.4590])), ('bias', tensor([0.3818]))])\n",
      "Loss: 0.04895269125699997\n",
      "MODEL Params: OrderedDict([('weights', tensor([0.4615])), ('bias', tensor([0.3833]))])\n",
      "Loss: 0.04819351062178612\n",
      "MODEL Params: OrderedDict([('weights', tensor([0.4639])), ('bias', tensor([0.3843]))])\n",
      "Loss: 0.047531817108392715\n",
      "MODEL Params: OrderedDict([('weights', tensor([0.4662])), ('bias', tensor([0.3853]))])\n",
      "Loss: 0.04692792519927025\n",
      "MODEL Params: OrderedDict([('weights', tensor([0.4684])), ('bias', tensor([0.3858]))])\n",
      "Loss: 0.04642331600189209\n",
      "MODEL Params: OrderedDict([('weights', tensor([0.4706])), ('bias', tensor([0.3863]))])\n",
      "Loss: 0.04591871052980423\n",
      "MODEL Params: OrderedDict([('weights', tensor([0.4728])), ('bias', tensor([0.3868]))])\n",
      "Loss: 0.04543796554207802\n",
      "MODEL Params: OrderedDict([('weights', tensor([0.4748])), ('bias', tensor([0.3868]))])\n",
      "Loss: 0.04503796249628067\n",
      "MODEL Params: OrderedDict([('weights', tensor([0.4768])), ('bias', tensor([0.3868]))])\n",
      "Loss: 0.04463795945048332\n",
      "MODEL Params: OrderedDict([('weights', tensor([0.4788])), ('bias', tensor([0.3868]))])\n",
      "Loss: 0.04423796385526657\n",
      "MODEL Params: OrderedDict([('weights', tensor([0.4808])), ('bias', tensor([0.3868]))])\n",
      "Loss: 0.04383796453475952\n",
      "MODEL Params: OrderedDict([('weights', tensor([0.4828])), ('bias', tensor([0.3868]))])\n",
      "Loss: 0.04343796148896217\n",
      "MODEL Params: OrderedDict([('weights', tensor([0.4848])), ('bias', tensor([0.3868]))])\n",
      "Loss: 0.043074630200862885\n",
      "MODEL Params: OrderedDict([('weights', tensor([0.4866])), ('bias', tensor([0.3863]))])\n",
      "Loss: 0.04272563382983208\n",
      "MODEL Params: OrderedDict([('weights', tensor([0.4884])), ('bias', tensor([0.3858]))])\n",
      "Loss: 0.04237663000822067\n",
      "MODEL Params: OrderedDict([('weights', tensor([0.4902])), ('bias', tensor([0.3853]))])\n",
      "Loss: 0.04202762991189957\n",
      "MODEL Params: OrderedDict([('weights', tensor([0.4920])), ('bias', tensor([0.3848]))])\n",
      "Loss: 0.04167863354086876\n",
      "MODEL Params: OrderedDict([('weights', tensor([0.4938])), ('bias', tensor([0.3843]))])\n",
      "Loss: 0.04132963344454765\n",
      "MODEL Params: OrderedDict([('weights', tensor([0.4956])), ('bias', tensor([0.3838]))])\n",
      "Loss: 0.04098063334822655\n",
      "MODEL Params: OrderedDict([('weights', tensor([0.4974])), ('bias', tensor([0.3833]))])\n",
      "Loss: 0.04063162952661514\n",
      "MODEL Params: OrderedDict([('weights', tensor([0.4992])), ('bias', tensor([0.3828]))])\n",
      "Loss: 0.040282636880874634\n",
      "MODEL Params: OrderedDict([('weights', tensor([0.5010])), ('bias', tensor([0.3823]))])\n",
      "Loss: 0.039933640509843826\n",
      "MODEL Params: OrderedDict([('weights', tensor([0.5028])), ('bias', tensor([0.3818]))])\n",
      "Loss: 0.03958464413881302\n",
      "MODEL Params: OrderedDict([('weights', tensor([0.5046])), ('bias', tensor([0.3813]))])\n",
      "Loss: 0.03923564404249191\n",
      "MODEL Params: OrderedDict([('weights', tensor([0.5064])), ('bias', tensor([0.3808]))])\n",
      "Loss: 0.03888664394617081\n",
      "MODEL Params: OrderedDict([('weights', tensor([0.5082])), ('bias', tensor([0.3803]))])\n",
      "Loss: 0.0385376438498497\n",
      "MODEL Params: OrderedDict([('weights', tensor([0.5100])), ('bias', tensor([0.3798]))])\n",
      "Loss: 0.03818932920694351\n",
      "MODEL Params: OrderedDict([('weights', tensor([0.5116])), ('bias', tensor([0.3788]))])\n",
      "Loss: 0.03785243630409241\n",
      "MODEL Params: OrderedDict([('weights', tensor([0.5134])), ('bias', tensor([0.3783]))])\n",
      "Loss: 0.0375034399330616\n",
      "MODEL Params: OrderedDict([('weights', tensor([0.5152])), ('bias', tensor([0.3778]))])\n",
      "Loss: 0.037164121866226196\n",
      "MODEL Params: OrderedDict([('weights', tensor([0.5168])), ('bias', tensor([0.3768]))])\n",
      "Loss: 0.03681822493672371\n",
      "MODEL Params: OrderedDict([('weights', tensor([0.5186])), ('bias', tensor([0.3763]))])\n",
      "Loss: 0.03647511452436447\n",
      "MODEL Params: OrderedDict([('weights', tensor([0.5202])), ('bias', tensor([0.3753]))])\n",
      "Loss: 0.03613303601741791\n",
      "MODEL Params: OrderedDict([('weights', tensor([0.5220])), ('bias', tensor([0.3748]))])\n",
      "Loss: 0.03578609973192215\n",
      "MODEL Params: OrderedDict([('weights', tensor([0.5236])), ('bias', tensor([0.3738]))])\n",
      "Loss: 0.03544783592224121\n",
      "MODEL Params: OrderedDict([('weights', tensor([0.5254])), ('bias', tensor([0.3733]))])\n",
      "Loss: 0.035098835825920105\n",
      "MODEL Params: OrderedDict([('weights', tensor([0.5272])), ('bias', tensor([0.3728]))])\n",
      "Loss: 0.03476089984178543\n",
      "MODEL Params: OrderedDict([('weights', tensor([0.5288])), ('bias', tensor([0.3718]))])\n",
      "Loss: 0.03441363573074341\n",
      "MODEL Params: OrderedDict([('weights', tensor([0.5306])), ('bias', tensor([0.3713]))])\n",
      "Loss: 0.03407188132405281\n",
      "MODEL Params: OrderedDict([('weights', tensor([0.5322])), ('bias', tensor([0.3703]))])\n",
      "Loss: 0.03372843936085701\n",
      "MODEL Params: OrderedDict([('weights', tensor([0.5340])), ('bias', tensor([0.3698]))])\n",
      "Loss: 0.03338287025690079\n",
      "MODEL Params: OrderedDict([('weights', tensor([0.5355])), ('bias', tensor([0.3688]))])\n",
      "Loss: 0.033043231815099716\n",
      "MODEL Params: OrderedDict([('weights', tensor([0.5373])), ('bias', tensor([0.3683]))])\n",
      "Loss: 0.03269423171877861\n",
      "MODEL Params: OrderedDict([('weights', tensor([0.5391])), ('bias', tensor([0.3678]))])\n",
      "Loss: 0.032357655465602875\n",
      "MODEL Params: OrderedDict([('weights', tensor([0.5407])), ('bias', tensor([0.3668]))])\n",
      "Loss: 0.03200903534889221\n",
      "MODEL Params: OrderedDict([('weights', tensor([0.5425])), ('bias', tensor([0.3663]))])\n",
      "Loss: 0.03166864812374115\n",
      "MODEL Params: OrderedDict([('weights', tensor([0.5441])), ('bias', tensor([0.3653]))])\n",
      "Loss: 0.03132382780313492\n",
      "MODEL Params: OrderedDict([('weights', tensor([0.5459])), ('bias', tensor([0.3648]))])\n",
      "Loss: 0.030979642644524574\n",
      "MODEL Params: OrderedDict([('weights', tensor([0.5475])), ('bias', tensor([0.3638]))])\n",
      "Loss: 0.030638623982667923\n",
      "MODEL Params: OrderedDict([('weights', tensor([0.5493])), ('bias', tensor([0.3633]))])\n",
      "Loss: 0.0302906334400177\n",
      "MODEL Params: OrderedDict([('weights', tensor([0.5509])), ('bias', tensor([0.3623]))])\n",
      "Loss: 0.029953425750136375\n",
      "MODEL Params: OrderedDict([('weights', tensor([0.5527])), ('bias', tensor([0.3618]))])\n",
      "Loss: 0.02960442565381527\n",
      "MODEL Params: OrderedDict([('weights', tensor([0.5545])), ('bias', tensor([0.3613]))])\n",
      "Loss: 0.029265418648719788\n",
      "MODEL Params: OrderedDict([('weights', tensor([0.5561])), ('bias', tensor([0.3603]))])\n",
      "Loss: 0.028919223695993423\n",
      "MODEL Params: OrderedDict([('weights', tensor([0.5579])), ('bias', tensor([0.3598]))])\n",
      "Loss: 0.028576409444212914\n",
      "MODEL Params: OrderedDict([('weights', tensor([0.5595])), ('bias', tensor([0.3588]))])\n",
      "Loss: 0.028234025463461876\n",
      "MODEL Params: OrderedDict([('weights', tensor([0.5613])), ('bias', tensor([0.3583]))])\n",
      "Loss: 0.02788739837706089\n",
      "MODEL Params: OrderedDict([('weights', tensor([0.5629])), ('bias', tensor([0.3573]))])\n",
      "Loss: 0.02754882536828518\n",
      "MODEL Params: OrderedDict([('weights', tensor([0.5647])), ('bias', tensor([0.3568]))])\n",
      "Loss: 0.027199819684028625\n",
      "MODEL Params: OrderedDict([('weights', tensor([0.5665])), ('bias', tensor([0.3563]))])\n",
      "Loss: 0.026862185448408127\n",
      "MODEL Params: OrderedDict([('weights', tensor([0.5681])), ('bias', tensor([0.3553]))])\n",
      "Loss: 0.02651461586356163\n",
      "MODEL Params: OrderedDict([('weights', tensor([0.5699])), ('bias', tensor([0.3548]))])\n",
      "Loss: 0.026173178106546402\n",
      "MODEL Params: OrderedDict([('weights', tensor([0.5715])), ('bias', tensor([0.3538]))])\n",
      "Loss: 0.025829419493675232\n",
      "MODEL Params: OrderedDict([('weights', tensor([0.5733])), ('bias', tensor([0.3533]))])\n",
      "Loss: 0.02548416517674923\n",
      "MODEL Params: OrderedDict([('weights', tensor([0.5748])), ('bias', tensor([0.3523]))])\n",
      "Loss: 0.025144213810563087\n",
      "MODEL Params: OrderedDict([('weights', tensor([0.5766])), ('bias', tensor([0.3518]))])\n",
      "Loss: 0.02479521557688713\n",
      "MODEL Params: OrderedDict([('weights', tensor([0.5784])), ('bias', tensor([0.3513]))])\n"
     ]
    }
   ],
   "source": [
    "epochs = 100\n",
    "\n",
    "\n",
    "## Training\n",
    "\n",
    "## 0. Loop through the data\n",
    "for epoch in range(epochs):\n",
    "    model_0.train() ## train mode in pytorch set\n",
    "    \n",
    "    ## 1. Forward pass\n",
    "    y_pred = model_0(X_train)\n",
    "    \n",
    "    ## 2. Calculate the loss\n",
    "    loss = loss_fn(y_pred,y_train)\n",
    "    print(f'Loss: {loss}')\n",
    "    ## 3. Optimizer zero grad\n",
    "    optimizer.zero_grad()\n",
    "    \n",
    "    ## 4. Perform back propagation on the loss with respect to the parameters of the model\n",
    "    loss.backward()\n",
    "    \n",
    "    ## 5. Step the optimizer (perform gradient descent )\n",
    "    optimizer.step()\n",
    "    ## \n",
    "    \n",
    "    model_0.eval()\n",
    "    print(f'MODEL Params: {model_0.state_dict()}')"
   ]
  },
  {
   "cell_type": "code",
   "execution_count": 27,
   "metadata": {},
   "outputs": [
    {
     "name": "stdout",
     "output_type": "stream",
     "text": [
      "LinearRegressionModel()\n"
     ]
    }
   ],
   "source": [
    "print(model_0.eval())"
   ]
  },
  {
   "cell_type": "code",
   "execution_count": 28,
   "metadata": {
    "id": "HHNyMdqkmCyV"
   },
   "outputs": [],
   "source": [
    "with torch.inference_mode():\n",
    "    y_preds_new = model_0(X_test)"
   ]
  },
  {
   "cell_type": "code",
   "execution_count": 29,
   "metadata": {
    "id": "LINB9c7OmC18"
   },
   "outputs": [
    {
     "data": {
      "image/png": "[encoded data removed]",
      "text/plain": [
       "<Figure size 1500x1000 with 1 Axes>"
      ]
     },
     "metadata": {},
     "output_type": "display_data"
    }
   ],
   "source": [
    "plot_predictions(predictions=y_preds.detach().numpy())"
   ]
  },
  {
   "cell_type": "code",
   "execution_count": 30,
   "metadata": {
    "id": "uLhYpXHrmC4B"
   },
   "outputs": [
    {
     "data": {
      "image/png": "[encoded data removed]",
      "text/plain": [
       "<Figure size 1500x1000 with 1 Axes>"
      ]
     },
     "metadata": {},
     "output_type": "display_data"
    }
   ],
   "source": [
    "plot_predictions(predictions=y_preds_new)"
   ]
  },
  {
   "cell_type": "code",
   "execution_count": 31,
   "metadata": {},
   "outputs": [],
   "source": [
    "## Testing"
   ]
  },
  {
   "cell_type": "code",
   "execution_count": 60,
   "metadata": {},
   "outputs": [],
   "source": [
    "## Create a random seed\n",
    "torch.manual_seed(42)\n",
    "\n",
    "model_1 = LinearRegressionModel()"
   ]
  },
  {
   "cell_type": "code",
   "execution_count": 61,
   "metadata": {},
   "outputs": [
    {
     "data": {
      "text/plain": [
       "OrderedDict([('weights', tensor([0.3367])), ('bias', tensor([0.1288]))])"
      ]
     },
     "execution_count": 61,
     "metadata": {},
     "output_type": "execute_result"
    }
   ],
   "source": [
    "model_1.state_dict()"
   ]
  },
  {
   "cell_type": "code",
   "execution_count": 62,
   "metadata": {},
   "outputs": [],
   "source": [
    "## Setup a loss functions\n",
    "\n",
    "loss_fn = nn.L1Loss()\n",
    "\n",
    "## Setup an optimizer\n",
    "\n",
    "optimizer = torch.optim.SGD(params=model_1.parameters(),\n",
    "                            lr=0.01) ## lr = learning rate"
   ]
  },
  {
   "cell_type": "code",
   "execution_count": 63,
   "metadata": {},
   "outputs": [
    {
     "name": "stdout",
     "output_type": "stream",
     "text": [
      "Loss: 0.31288138031959534\n",
      "Epoch: 0 | Test: 0.31288138031959534 | Test Loss: 0.48106518387794495\n",
      "MODEL Params: OrderedDict([('weights', tensor([0.3406])), ('bias', tensor([0.1388]))])\n",
      "Loss: 0.3013603389263153\n",
      "Loss: 0.28983935713768005\n",
      "Loss: 0.2783183455467224\n",
      "Loss: 0.26679736375808716\n",
      "Loss: 0.2552763521671295\n",
      "Loss: 0.24375534057617188\n",
      "Loss: 0.23223432898521423\n",
      "Loss: 0.22071333229541779\n",
      "Loss: 0.20919232070446014\n",
      "Loss: 0.1976713240146637\n",
      "Epoch: 10 | Test: 0.1976713240146637 | Test Loss: 0.3463551998138428\n",
      "MODEL Params: OrderedDict([('weights', tensor([0.3796])), ('bias', tensor([0.2388]))])\n",
      "Loss: 0.18615034222602844\n",
      "Loss: 0.1746293306350708\n",
      "Loss: 0.16310831904411316\n",
      "Loss: 0.1515873372554779\n",
      "Loss: 0.14006635546684265\n",
      "Loss: 0.1285453587770462\n",
      "Loss: 0.11702437698841095\n",
      "Loss: 0.1060912236571312\n",
      "Loss: 0.09681284427642822\n",
      "Loss: 0.08908725529909134\n",
      "Epoch: 20 | Test: 0.08908725529909134 | Test Loss: 0.21729660034179688\n",
      "MODEL Params: OrderedDict([('weights', tensor([0.4184])), ('bias', tensor([0.3333]))])\n",
      "Loss: 0.08227583020925522\n",
      "Loss: 0.07638873159885406\n",
      "Loss: 0.07160007208585739\n",
      "Loss: 0.06747635453939438\n",
      "Loss: 0.06395438313484192\n",
      "Loss: 0.06097004935145378\n",
      "Loss: 0.05845819041132927\n",
      "Loss: 0.05635259300470352\n",
      "Loss: 0.0545857772231102\n",
      "Loss: 0.053148526698350906\n",
      "Epoch: 30 | Test: 0.053148526698350906 | Test Loss: 0.14464017748832703\n",
      "MODEL Params: OrderedDict([('weights', tensor([0.4512])), ('bias', tensor([0.3768]))])\n",
      "Loss: 0.05181945487856865\n",
      "Loss: 0.05069301277399063\n",
      "Loss: 0.0498228520154953\n",
      "Loss: 0.04895269125699997\n",
      "Loss: 0.04819351062178612\n",
      "Loss: 0.047531817108392715\n",
      "Loss: 0.04692792519927025\n",
      "Loss: 0.04642331600189209\n",
      "Loss: 0.04591871052980423\n",
      "Loss: 0.04543796554207802\n",
      "Epoch: 40 | Test: 0.04543796554207802 | Test Loss: 0.11360953003168106\n",
      "MODEL Params: OrderedDict([('weights', tensor([0.4748])), ('bias', tensor([0.3868]))])\n",
      "Loss: 0.04503796249628067\n",
      "Loss: 0.04463795945048332\n",
      "Loss: 0.04423796385526657\n",
      "Loss: 0.04383796453475952\n",
      "Loss: 0.04343796148896217\n",
      "Loss: 0.043074630200862885\n",
      "Loss: 0.04272563382983208\n",
      "Loss: 0.04237663000822067\n",
      "Loss: 0.04202762991189957\n",
      "Loss: 0.04167863354086876\n",
      "Epoch: 50 | Test: 0.04167863354086876 | Test Loss: 0.09919948130846024\n",
      "MODEL Params: OrderedDict([('weights', tensor([0.4938])), ('bias', tensor([0.3843]))])\n",
      "Loss: 0.04132963344454765\n",
      "Loss: 0.04098063334822655\n",
      "Loss: 0.04063162952661514\n",
      "Loss: 0.040282636880874634\n",
      "Loss: 0.039933640509843826\n",
      "Loss: 0.03958464413881302\n",
      "Loss: 0.03923564404249191\n",
      "Loss: 0.03888664394617081\n",
      "Loss: 0.0385376438498497\n",
      "Loss: 0.03818932920694351\n",
      "Epoch: 60 | Test: 0.03818932920694351 | Test Loss: 0.08886633068323135\n",
      "MODEL Params: OrderedDict([('weights', tensor([0.5116])), ('bias', tensor([0.3788]))])\n",
      "Loss: 0.03785243630409241\n",
      "Loss: 0.0375034399330616\n",
      "Loss: 0.037164121866226196\n",
      "Loss: 0.03681822493672371\n",
      "Loss: 0.03647511452436447\n",
      "Loss: 0.03613303601741791\n",
      "Loss: 0.03578609973192215\n",
      "Loss: 0.03544783592224121\n",
      "Loss: 0.035098835825920105\n",
      "Loss: 0.03476089984178543\n",
      "Epoch: 70 | Test: 0.03476089984178543 | Test Loss: 0.0805937647819519\n",
      "MODEL Params: OrderedDict([('weights', tensor([0.5288])), ('bias', tensor([0.3718]))])\n",
      "Loss: 0.03441363573074341\n",
      "Loss: 0.03407188132405281\n",
      "Loss: 0.03372843936085701\n",
      "Loss: 0.03338287025690079\n",
      "Loss: 0.033043231815099716\n",
      "Loss: 0.03269423171877861\n",
      "Loss: 0.032357655465602875\n",
      "Loss: 0.03200903534889221\n",
      "Loss: 0.03166864812374115\n",
      "Loss: 0.03132382780313492\n",
      "Epoch: 80 | Test: 0.03132382780313492 | Test Loss: 0.07232122868299484\n",
      "MODEL Params: OrderedDict([('weights', tensor([0.5459])), ('bias', tensor([0.3648]))])\n",
      "Loss: 0.030979642644524574\n",
      "Loss: 0.030638623982667923\n",
      "Loss: 0.0302906334400177\n",
      "Loss: 0.029953425750136375\n",
      "Loss: 0.02960442565381527\n",
      "Loss: 0.029265418648719788\n",
      "Loss: 0.028919223695993423\n",
      "Loss: 0.028576409444212914\n",
      "Loss: 0.028234025463461876\n",
      "Loss: 0.02788739837706089\n",
      "Epoch: 90 | Test: 0.02788739837706089 | Test Loss: 0.06473556160926819\n",
      "MODEL Params: OrderedDict([('weights', tensor([0.5629])), ('bias', tensor([0.3573]))])\n",
      "Loss: 0.02754882536828518\n",
      "Loss: 0.027199819684028625\n",
      "Loss: 0.026862185448408127\n",
      "Loss: 0.02651461586356163\n",
      "Loss: 0.026173178106546402\n",
      "Loss: 0.025829419493675232\n",
      "Loss: 0.02548416517674923\n",
      "Loss: 0.025144213810563087\n",
      "Loss: 0.02479521557688713\n",
      "Loss: 0.024458957836031914\n",
      "Epoch: 100 | Test: 0.024458957836031914 | Test Loss: 0.05646304413676262\n",
      "MODEL Params: OrderedDict([('weights', tensor([0.5800])), ('bias', tensor([0.3503]))])\n",
      "Loss: 0.024110013619065285\n",
      "Loss: 0.02376994863152504\n",
      "Loss: 0.02342480979859829\n",
      "Loss: 0.023080935701727867\n",
      "Loss: 0.022739607840776443\n",
      "Loss: 0.022391926497220993\n",
      "Loss: 0.022054409608244896\n",
      "Loss: 0.02170540764927864\n",
      "Loss: 0.021366719156503677\n",
      "Loss: 0.021020207554101944\n",
      "Epoch: 110 | Test: 0.021020207554101944 | Test Loss: 0.04819049686193466\n",
      "MODEL Params: OrderedDict([('weights', tensor([0.5972])), ('bias', tensor([0.3433]))])\n",
      "Loss: 0.020677709951996803\n",
      "Loss: 0.02033500373363495\n",
      "Loss: 0.01998869702219963\n",
      "Loss: 0.019649803638458252\n",
      "Loss: 0.019300809130072594\n",
      "Loss: 0.018963487818837166\n",
      "Loss: 0.01861560344696045\n",
      "Loss: 0.018274478614330292\n",
      "Loss: 0.017930403351783752\n",
      "Loss: 0.01758546568453312\n",
      "Epoch: 120 | Test: 0.01758546568453312 | Test Loss: 0.04060482233762741\n",
      "MODEL Params: OrderedDict([('weights', tensor([0.6141])), ('bias', tensor([0.3358]))])\n",
      "Loss: 0.017245199531316757\n",
      "Loss: 0.016896454617381096\n",
      "Loss: 0.01656000316143036\n",
      "Loss: 0.016210997477173805\n",
      "Loss: 0.01587124727666378\n",
      "Loss: 0.015525798313319683\n",
      "Loss: 0.015182236209511757\n",
      "Loss: 0.014840595424175262\n",
      "Loss: 0.01449323259294033\n",
      "Loss: 0.014155393466353416\n",
      "Epoch: 130 | Test: 0.014155393466353416 | Test Loss: 0.03233227878808975\n",
      "MODEL Params: OrderedDict([('weights', tensor([0.6313])), ('bias', tensor([0.3288]))])\n",
      "Loss: 0.013806397095322609\n",
      "Loss: 0.013468016870319843\n",
      "Loss: 0.013121193274855614\n",
      "Loss: 0.01277900766581297\n",
      "Loss: 0.012435992248356342\n",
      "Loss: 0.01208999752998352\n",
      "Loss: 0.011750795878469944\n",
      "Loss: 0.011401787400245667\n",
      "Loss: 0.011064787395298481\n",
      "Loss: 0.010716589167714119\n",
      "Epoch: 140 | Test: 0.010716589167714119 | Test Loss: 0.024059748277068138\n",
      "MODEL Params: OrderedDict([('weights', tensor([0.6485])), ('bias', tensor([0.3218]))])\n",
      "Loss: 0.010375778190791607\n",
      "Loss: 0.010031387209892273\n",
      "Loss: 0.009686763398349285\n",
      "Loss: 0.009346187114715576\n",
      "Loss: 0.008997755125164986\n",
      "Loss: 0.008660981431603432\n",
      "Loss: 0.008311985060572624\n",
      "Loss: 0.007972544990479946\n",
      "Loss: 0.007626785431057215\n",
      "Loss: 0.0072835334576666355\n",
      "Epoch: 150 | Test: 0.0072835334576666355 | Test Loss: 0.016474086791276932\n",
      "MODEL Params: OrderedDict([('weights', tensor([0.6654])), ('bias', tensor([0.3143]))])\n",
      "Loss: 0.006941580679267645\n",
      "Loss: 0.006594526115804911\n",
      "Loss: 0.006256377790123224\n",
      "Loss: 0.005907376762479544\n",
      "Loss: 0.005569315515458584\n",
      "Loss: 0.005222178064286709\n",
      "Loss: 0.004880306776612997\n",
      "Loss: 0.004536976106464863\n",
      "Loss: 0.00419129803776741\n",
      "Loss: 0.0038517764769494534\n",
      "Epoch: 160 | Test: 0.0038517764769494534 | Test Loss: 0.008201557211577892\n",
      "MODEL Params: OrderedDict([('weights', tensor([0.6826])), ('bias', tensor([0.3073]))])\n",
      "Loss: 0.0035027749836444855\n",
      "Loss: 0.0031660839449614286\n",
      "Loss: 0.002817571861669421\n",
      "Loss: 0.0024770735763013363\n",
      "Loss: 0.0021323717664927244\n",
      "Loss: 0.0017880648374557495\n",
      "Loss: 0.0014518328243866563\n",
      "Loss: 0.0011887758737429976\n",
      "Loss: 0.0025885067880153656\n",
      "Loss: 0.008932482451200485\n",
      "Epoch: 170 | Test: 0.008932482451200485 | Test Loss: 0.005023092031478882\n",
      "MODEL Params: OrderedDict([('weights', tensor([0.6951])), ('bias', tensor([0.2993]))])\n",
      "Loss: 0.0025885067880153656\n",
      "Loss: 0.008932482451200485\n",
      "Loss: 0.0025885067880153656\n",
      "Loss: 0.008932482451200485\n",
      "Loss: 0.0025885067880153656\n",
      "Loss: 0.008932482451200485\n",
      "Loss: 0.0025885067880153656\n",
      "Loss: 0.008932482451200485\n",
      "Loss: 0.0025885067880153656\n",
      "Loss: 0.008932482451200485\n",
      "Epoch: 180 | Test: 0.008932482451200485 | Test Loss: 0.005023092031478882\n",
      "MODEL Params: OrderedDict([('weights', tensor([0.6951])), ('bias', tensor([0.2993]))])\n",
      "Loss: 0.0025885067880153656\n",
      "Loss: 0.008932482451200485\n",
      "Loss: 0.0025885067880153656\n",
      "Loss: 0.008932482451200485\n",
      "Loss: 0.0025885067880153656\n",
      "Loss: 0.008932482451200485\n",
      "Loss: 0.0025885067880153656\n",
      "Loss: 0.008932482451200485\n",
      "Loss: 0.0025885067880153656\n",
      "Loss: 0.008932482451200485\n",
      "Epoch: 190 | Test: 0.008932482451200485 | Test Loss: 0.005023092031478882\n",
      "MODEL Params: OrderedDict([('weights', tensor([0.6951])), ('bias', tensor([0.2993]))])\n",
      "Loss: 0.0025885067880153656\n",
      "Loss: 0.008932482451200485\n",
      "Loss: 0.0025885067880153656\n",
      "Loss: 0.008932482451200485\n",
      "Loss: 0.0025885067880153656\n",
      "Loss: 0.008932482451200485\n",
      "Loss: 0.0025885067880153656\n",
      "Loss: 0.008932482451200485\n",
      "Loss: 0.0025885067880153656\n"
     ]
    }
   ],
   "source": [
    "torch.manual_seed(42)\n",
    "\n",
    "epochs = 200\n",
    "\n",
    "\n",
    "## Track different values\n",
    "epoch_count = []\n",
    "train_loss_values = []\n",
    "test_loss_values = []\n",
    "\n",
    "\n",
    "\n",
    "## Training\n",
    "## 0. Loop through the data\n",
    "for epoch in range(epochs):\n",
    "    model_1.train() ## train mode in pytorch set\n",
    "    \n",
    "    ## 1. Forward pass\n",
    "    y_pred = model_1(X_train)\n",
    "    \n",
    "    ## 2. Calculate the loss\n",
    "    loss = loss_fn(y_pred,y_train)\n",
    "    print(f'Loss: {loss}')\n",
    "    ## 3. Optimizer zero grad\n",
    "    optimizer.zero_grad()\n",
    "    \n",
    "    ## 4. Perform back propagation on the loss with respect to the parameters of the model\n",
    "    loss.backward()\n",
    "    \n",
    "    ## 5. Step the optimizer (perform gradient descent )\n",
    "    optimizer.step()\n",
    "    ## \n",
    "    \n",
    "    model_1.eval() ## turns off different settings in the model not needed for evaluation/ testing\n",
    "    \n",
    "    with torch.inference_mode(): ## turns off gradient trackiong and a couple more things behind the scenes\n",
    "        ## 1. Do the forward pass \n",
    "        test_pred = model_1(X_test)\n",
    "        \n",
    "        ## 2. Calculate the loss\n",
    "        test_loss = loss_fn(test_pred,y_test)\n",
    "    \n",
    "\n",
    "    \n",
    "    if epoch%10 == 0:\n",
    "        print(f'Epoch: {epoch} | Test: {loss} | Test Loss: {test_loss}')\n",
    "        epoch_count.append(epoch)\n",
    "        train_loss_values.append(loss)\n",
    "        test_loss_values.append(test_loss)\n",
    "    \n",
    "        print(f'MODEL Params: {model_1.state_dict()}')"
   ]
  },
  {
   "cell_type": "code",
   "execution_count": 64,
   "metadata": {},
   "outputs": [
    {
     "data": {
      "text/plain": [
       "OrderedDict([('weights', tensor([0.6990])), ('bias', tensor([0.3093]))])"
      ]
     },
     "execution_count": 64,
     "metadata": {},
     "output_type": "execute_result"
    }
   ],
   "source": [
    "model_1.state_dict()"
   ]
  },
  {
   "cell_type": "code",
   "execution_count": 65,
   "metadata": {},
   "outputs": [
    {
     "data": {
      "image/png": "[encoded data removed]",
      "text/plain": [
       "<Figure size 1500x1000 with 1 Axes>"
      ]
     },
     "metadata": {},
     "output_type": "display_data"
    }
   ],
   "source": [
    "with torch.inference_mode():\n",
    "    y_preds_new = model_1(X_test)\n",
    "plot_predictions(predictions=y_preds_new)"
   ]
  },
  {
   "cell_type": "code",
   "execution_count": 66,
   "metadata": {},
   "outputs": [
    {
     "data": {
      "text/plain": [
       "[0,\n",
       " 10,\n",
       " 20,\n",
       " 30,\n",
       " 40,\n",
       " 50,\n",
       " 60,\n",
       " 70,\n",
       " 80,\n",
       " 90,\n",
       " 100,\n",
       " 110,\n",
       " 120,\n",
       " 130,\n",
       " 140,\n",
       " 150,\n",
       " 160,\n",
       " 170,\n",
       " 180,\n",
       " 190]"
      ]
     },
     "execution_count": 66,
     "metadata": {},
     "output_type": "execute_result"
    }
   ],
   "source": [
    "epoch_count"
   ]
  },
  {
   "cell_type": "code",
   "execution_count": 67,
   "metadata": {},
   "outputs": [
    {
     "data": {
      "text/plain": [
       "array([0.31288138, 0.19767132, 0.08908726, 0.05314853, 0.04543797,\n",
       "       0.04167863, 0.03818933, 0.0347609 , 0.03132383, 0.0278874 ,\n",
       "       0.02445896, 0.02102021, 0.01758547, 0.01415539, 0.01071659,\n",
       "       0.00728353, 0.00385178, 0.00893248, 0.00893248, 0.00893248],\n",
       "      dtype=float32)"
      ]
     },
     "execution_count": 67,
     "metadata": {},
     "output_type": "execute_result"
    }
   ],
   "source": [
    "train_loss_values = np.array(torch.tensor(train_loss_values).numpy())\n",
    "train_loss_values"
   ]
  },
  {
   "cell_type": "code",
   "execution_count": 68,
   "metadata": {},
   "outputs": [
    {
     "data": {
      "text/plain": [
       "array([0.48106518, 0.3463552 , 0.2172966 , 0.14464018, 0.11360953,\n",
       "       0.09919948, 0.08886633, 0.08059376, 0.07232123, 0.06473556,\n",
       "       0.05646304, 0.0481905 , 0.04060482, 0.03233228, 0.02405975,\n",
       "       0.01647409, 0.00820156, 0.00502309, 0.00502309, 0.00502309],\n",
       "      dtype=float32)"
      ]
     },
     "execution_count": 68,
     "metadata": {},
     "output_type": "execute_result"
    }
   ],
   "source": [
    "test_loss_values = np.array(torch.tensor(test_loss_values).numpy())\n",
    "test_loss_values"
   ]
  },
  {
   "cell_type": "code",
   "execution_count": 69,
   "metadata": {},
   "outputs": [
    {
     "data": {
      "text/plain": [
       "<matplotlib.legend.Legend at 0x12818171250>"
      ]
     },
     "execution_count": 69,
     "metadata": {},
     "output_type": "execute_result"
    },
    {
     "data": {
      "image/png": "[encoded data removed]",
      "text/plain": [
       "<Figure size 640x480 with 1 Axes>"
      ]
     },
     "metadata": {},
     "output_type": "display_data"
    }
   ],
   "source": [
    "## Plot the loss curves\n",
    "plt.plot(epoch_count,train_loss_values,label='Train Loss')\n",
    "plt.plot(epoch_count,test_loss_values,label='Test Loss')\n",
    "plt.title('Training and test loss curves')\n",
    "plt.xlabel('Loss')\n",
    "plt.xlabel('Epochs')\n",
    "plt.legend()"
   ]
  },
  {
   "cell_type": "markdown",
   "metadata": {},
   "source": [
    "## Saving a model\n",
    "\n",
    "1. torch.save()\n",
    "2. torch.load()\n",
    "3. torch.nn.Module.load_state_dict()"
   ]
  },
  {
   "cell_type": "code",
   "execution_count": 72,
   "metadata": {},
   "outputs": [
    {
     "name": "stdout",
     "output_type": "stream",
     "text": [
      "SAVING MODEL LinearRegressionEarly.pth to models\\LinearRegressionEarly.pth\n"
     ]
    }
   ],
   "source": [
    "## Saving pytorch model\n",
    "from pathlib import Path\n",
    "\n",
    "# 1. Create a model dir\n",
    "MODEL_PATH = Path('models')\n",
    "MODEL_PATH.mkdir(parents=True,exist_ok=True)\n",
    "\n",
    "# 2. Model save path\n",
    "MODEL_NAME = 'LinearRegressionEarly.pth'\n",
    "MODEL_SAVE_PATH = MODEL_PATH / MODEL_NAME\n",
    "\n",
    "# 3. Save the model save dict\n",
    "print(f'SAVING MODEL {MODEL_NAME} to {MODEL_SAVE_PATH}')\n",
    "torch.save(obj=model_1.state_dict(),\n",
    "           f=MODEL_SAVE_PATH)"
   ]
  },
  {
   "cell_type": "code",
   "execution_count": 78,
   "metadata": {},
   "outputs": [
    {
     "data": {
      "text/plain": [
       "<All keys matched successfully>"
      ]
     },
     "execution_count": 78,
     "metadata": {},
     "output_type": "execute_result"
    }
   ],
   "source": [
    "## Loading a PyTorch model\n",
    "\n",
    "## To load in a saved state_dict we have to instantiate a new instance of out model class\n",
    "\n",
    "loaded_model = LinearRegressionModel()\n",
    "\n",
    "## Load the saved state_dict of model_1 (this will update the new instance with updated parameters) \n",
    "loaded_model.load_state_dict(torch.load(f=MODEL_SAVE_PATH))"
   ]
  },
  {
   "cell_type": "code",
   "execution_count": 79,
   "metadata": {},
   "outputs": [
    {
     "data": {
      "text/plain": [
       "OrderedDict([('weights', tensor([0.6990])), ('bias', tensor([0.3093]))])"
      ]
     },
     "execution_count": 79,
     "metadata": {},
     "output_type": "execute_result"
    }
   ],
   "source": [
    "loaded_model.state_dict()"
   ]
  },
  {
   "cell_type": "code",
   "execution_count": 80,
   "metadata": {},
   "outputs": [
    {
     "data": {
      "text/plain": [
       "tensor([[0.8685],\n",
       "        [0.8825],\n",
       "        [0.8965],\n",
       "        [0.9105],\n",
       "        [0.9245],\n",
       "        [0.9384],\n",
       "        [0.9524],\n",
       "        [0.9664],\n",
       "        [0.9804],\n",
       "        [0.9944]])"
      ]
     },
     "execution_count": 80,
     "metadata": {},
     "output_type": "execute_result"
    }
   ],
   "source": [
    "## Make some predictions with our loaded model\n",
    "\n",
    "loaded_model.eval()\n",
    "with torch.inference_mode():\n",
    "    loaded_model_preds = loaded_model(X_test)\n",
    "loaded_model_preds"
   ]
  },
  {
   "cell_type": "code",
   "execution_count": 82,
   "metadata": {},
   "outputs": [
    {
     "data": {
      "text/plain": [
       "tensor([[True],\n",
       "        [True],\n",
       "        [True],\n",
       "        [True],\n",
       "        [True],\n",
       "        [True],\n",
       "        [True],\n",
       "        [True],\n",
       "        [True],\n",
       "        [True]])"
      ]
     },
     "execution_count": 82,
     "metadata": {},
     "output_type": "execute_result"
    }
   ],
   "source": [
    "y_preds_new == loaded_model_preds"
   ]
  },
  {
   "cell_type": "markdown",
   "metadata": {},
   "source": [
    "# Putting it all back together"
   ]
  },
  {
   "cell_type": "code",
   "execution_count": 84,
   "metadata": {},
   "outputs": [
    {
     "data": {
      "text/plain": [
       "'2.1.0+cpu'"
      ]
     },
     "execution_count": 84,
     "metadata": {},
     "output_type": "execute_result"
    }
   ],
   "source": [
    "## importing libraries\n",
    "import torch\n",
    "from torch import nn\n",
    "import numpy as np\n",
    "from matplotlib import pyplot as plt\n",
    "%matplotlib inline\n",
    "\n",
    "torch.__version__"
   ]
  },
  {
   "cell_type": "code",
   "execution_count": 85,
   "metadata": {},
   "outputs": [
    {
     "name": "stdout",
     "output_type": "stream",
     "text": [
      "Using device: cpu\n"
     ]
    }
   ],
   "source": [
    "## Create device agnostic code\n",
    "\n",
    "device = 'cuda' if torch.cuda.is_available() else 'cpu'\n",
    "print(f'Using device: {device}')"
   ]
  },
  {
   "cell_type": "markdown",
   "metadata": {},
   "source": [
    "## 1. Data"
   ]
  },
  {
   "cell_type": "code",
   "execution_count": null,
   "metadata": {},
   "outputs": [],
   "source": [
    "## Create some data using the linear regression form"
   ]
  },
  {
   "cell_type": "code",
   "execution_count": null,
   "metadata": {},
   "outputs": [],
   "source": []
  },
  {
   "cell_type": "code",
   "execution_count": null,
   "metadata": {},
   "outputs": [],
   "source": []
  },
  {
   "cell_type": "code",
   "execution_count": null,
   "metadata": {
    "id": "fmnQdL4wmC8p"
   },
   "outputs": [],
   "source": []
  }
 ],
 "metadata": {
  "colab": {
   "provenance": []
  },
  "kernelspec": {
   "display_name": "Python 3 (ipykernel)",
   "language": "python",
   "name": "python3"
  },
  "language_info": {
   "codemirror_mode": {
    "name": "ipython",
    "version": 3
   },
   "file_extension": ".py",
   "mimetype": "text/x-python",
   "name": "python",
   "nbconvert_exporter": "python",
   "pygments_lexer": "ipython3",
   "version": "3.11.5"
  }
 },
 "nbformat": 4,
 "nbformat_minor": 1
}
