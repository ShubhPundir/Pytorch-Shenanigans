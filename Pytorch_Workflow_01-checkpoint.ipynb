{
 "cells": [
  {
   "cell_type": "markdown",
   "id": "eec640dd",
   "metadata": {},
   "source": [
    "# Putting it all back together"
   ]
  },
  {
   "cell_type": "code",
   "execution_count": 9,
   "id": "61b9e1d2",
   "metadata": {},
   "outputs": [
    {
     "data": {
      "text/plain": [
       "'2.1.0+cpu'"
      ]
     },
     "execution_count": 9,
     "metadata": {},
     "output_type": "execute_result"
    }
   ],
   "source": [
    "## importing libraries\n",
    "import torch\n",
    "from torch import nn\n",
    "import numpy as np\n",
    "import matplotlib.pyplot as plt\n",
    "%matplotlib inline\n",
    "\n",
    "torch.__version__"
   ]
  },
  {
   "cell_type": "code",
   "execution_count": 3,
   "id": "06cc4e66",
   "metadata": {},
   "outputs": [],
   "source": [
    "from matplotlib import pyplot as plt\n",
    "import numpy as np"
   ]
  },
  {
   "cell_type": "code",
   "execution_count": 8,
   "id": "47995d89",
   "metadata": {},
   "outputs": [
    {
     "name": "stderr",
     "output_type": "stream",
     "text": [
      "No artists with labels found to put in legend.  Note that artists whose label start with an underscore are ignored when legend() is called with no argument.\n"
     ]
    },
    {
     "data": {
      "text/plain": [
       "<matplotlib.legend.Legend at 0x218e12a5410>"
      ]
     },
     "execution_count": 8,
     "metadata": {},
     "output_type": "execute_result"
    },
    {
     "data": {
      "image/png": "[encoded data removed]",
      "text/plain": [
       "<Figure size 640x480 with 1 Axes>"
      ]
     },
     "metadata": {},
     "output_type": "display_data"
    }
   ],
   "source": [
    "x = [1, 2, 3]\n",
    "y = np.array([[1, 2], [3, 4], [5, 6]])\n",
    "plt.plot(y,x)\n",
    "plt.legend(prop={'size':14})"
   ]
  },
  {
   "cell_type": "code",
   "execution_count": 10,
   "id": "e2554804",
   "metadata": {},
   "outputs": [
    {
     "name": "stdout",
     "output_type": "stream",
     "text": [
      "Using device: cpu\n"
     ]
    }
   ],
   "source": [
    "## Create device agnostic code\n",
    "\n",
    "device = 'cuda' if torch.cuda.is_available() else 'cpu'\n",
    "print(f'Using device: {device}')"
   ]
  },
  {
   "cell_type": "markdown",
   "id": "e43c1b65",
   "metadata": {},
   "source": [
    "# 1. Data"
   ]
  },
  {
   "cell_type": "code",
   "execution_count": 11,
   "id": "9c79dac9",
   "metadata": {},
   "outputs": [
    {
     "data": {
      "text/plain": [
       "(tensor([[0.0000],\n",
       "         [0.0200],\n",
       "         [0.0400],\n",
       "         [0.0600],\n",
       "         [0.0800],\n",
       "         [0.1000],\n",
       "         [0.1200],\n",
       "         [0.1400],\n",
       "         [0.1600],\n",
       "         [0.1800]]),\n",
       " tensor([[0.3000],\n",
       "         [0.3140],\n",
       "         [0.3280],\n",
       "         [0.3420],\n",
       "         [0.3560],\n",
       "         [0.3700],\n",
       "         [0.3840],\n",
       "         [0.3980],\n",
       "         [0.4120],\n",
       "         [0.4260]]))"
      ]
     },
     "execution_count": 11,
     "metadata": {},
     "output_type": "execute_result"
    }
   ],
   "source": [
    "weight = 0.7\n",
    "bias = 0.3\n",
    "\n",
    "start = 0\n",
    "end = 1\n",
    "step = 0.02\n",
    "\n",
    "X = torch.arange(start,end,step).unsqueeze(dim=1)\n",
    "y = weight * X + bias\n",
    "\n",
    "X[:10], y[:10]"
   ]
  },
  {
   "cell_type": "code",
   "execution_count": 12,
   "id": "3ef64825",
   "metadata": {},
   "outputs": [
    {
     "data": {
      "text/plain": [
       "(40, 40, 10, 10)"
      ]
     },
     "execution_count": 12,
     "metadata": {},
     "output_type": "execute_result"
    }
   ],
   "source": [
    "## Split data\n",
    "\n",
    "train_split = int(0.8 * len(X))\n",
    "\n",
    "X_train, y_train, X_test, y_test = X[:train_split], y[:train_split], X[train_split:], y[train_split:]\n",
    "len(X_train),len(y_train),len(X_test),len(y_test)"
   ]
  },
  {
   "cell_type": "code",
   "execution_count": 13,
   "id": "09f1939f",
   "metadata": {},
   "outputs": [],
   "source": [
    "## Plot the data\n",
    "def plot_predictions(train_data=X_train,\n",
    "                     train_lables=y_train,\n",
    "                     test_data = X_test,\n",
    "                     test_labels = y_test,\n",
    "                     predictions = None):\n",
    "    '''\n",
    "    Plots training data, test data and compares predicitons\n",
    "    '''\n",
    "\n",
    "    plt.figure(figsize=(15,10))\n",
    "    plt.scatter(train_data,train_lables,s=5,c='b',label='Training data')\n",
    "\n",
    "    plt.scatter(test_data,test_labels,s=10,c='g',label='Test Data')\n",
    "\n",
    "    if predictions is not None:\n",
    "        plt.scatter(test_data,predictions,s=5,c='r',label='Predictions')\n",
    "\n",
    "    plt.legend(prop={'size':14})\n",
    "    plt.show"
   ]
  },
  {
   "cell_type": "code",
   "execution_count": 14,
   "id": "a5032f19",
   "metadata": {},
   "outputs": [
    {
     "data": {
      "image/png": "[encoded data removed]",
      "text/plain": [
       "<Figure size 1500x1000 with 1 Axes>"
      ]
     },
     "metadata": {},
     "output_type": "display_data"
    }
   ],
   "source": [
    "plot_predictions()"
   ]
  },
  {
   "cell_type": "code",
   "execution_count": 15,
   "id": "8aea2a20",
   "metadata": {},
   "outputs": [
    {
     "data": {
      "text/plain": [
       "(LinearRegressionModelV2(\n",
       "   (linear_layer): Linear(in_features=1, out_features=1, bias=True)\n",
       " ),\n",
       " OrderedDict([('linear_layer.weight', tensor([[0.7645]])),\n",
       "              ('linear_layer.bias', tensor([0.8300]))]))"
      ]
     },
     "execution_count": 15,
     "metadata": {},
     "output_type": "execute_result"
    }
   ],
   "source": [
    "## Building a linear model\n",
    "\n",
    "class LinearRegressionModelV2(nn.Module):\n",
    "    def __init__(self):\n",
    "        super().__init__()\n",
    "        \n",
    "        ## Use nn.Linear() for creating the model paramters\n",
    "        self.linear_layer = nn.Linear(in_features=1, \n",
    "                                      out_features=1)\n",
    "        \n",
    "    def forward(self,x) -> torch.Tensor:\n",
    "        return self.linear_layer(x)\n",
    "    \n",
    "## Set the manual seed \n",
    "torch.manual_seed(42)\n",
    "model_1 = LinearRegressionModelV2()\n",
    "model_1, model_1.state_dict()"
   ]
  },
  {
   "cell_type": "code",
   "execution_count": 16,
   "id": "07807a45",
   "metadata": {},
   "outputs": [
    {
     "data": {
      "text/plain": [
       "device(type='cpu')"
      ]
     },
     "execution_count": 16,
     "metadata": {},
     "output_type": "execute_result"
    }
   ],
   "source": [
    "next(model_1.parameters()).device"
   ]
  },
  {
   "cell_type": "code",
   "execution_count": 17,
   "id": "066c124e",
   "metadata": {},
   "outputs": [
    {
     "data": {
      "text/plain": [
       "device(type='cpu')"
      ]
     },
     "execution_count": 17,
     "metadata": {},
     "output_type": "execute_result"
    }
   ],
   "source": [
    "## set the model to use the target device\n",
    "\n",
    "model_1.to(device)\n",
    "next(model_1.parameters()).device"
   ]
  },
  {
   "cell_type": "code",
   "execution_count": 18,
   "id": "f9449e27",
   "metadata": {},
   "outputs": [],
   "source": [
    "## put data on the target device\n",
    "\n",
    "X_train = X_train.to(device)\n",
    "y_train = y_train.to(device)\n",
    "X_test = X_test.to(device)\n",
    "y_test = y_test.to(device)"
   ]
  },
  {
   "cell_type": "markdown",
   "id": "b0363f0a",
   "metadata": {},
   "source": [
    "# Training"
   ]
  },
  {
   "cell_type": "code",
   "execution_count": 19,
   "id": "6dd2e9fc",
   "metadata": {},
   "outputs": [],
   "source": [
    "## Loss function \n",
    "loss_fn = nn.L1Loss() ## same as MAE\n",
    "\n",
    "## Optimizer\n",
    "optimizer = torch.optim.SGD(params=model_1.parameters(),\n",
    "                            lr=0.01)"
   ]
  },
  {
   "cell_type": "code",
   "execution_count": 20,
   "id": "12551d47",
   "metadata": {},
   "outputs": [
    {
     "name": "stdout",
     "output_type": "stream",
     "text": [
      "Epoch: 0 | Training Loss: 0.5551779866218567 | Testing loss: 0.5739762187004089\n",
      "Epoch: 10 | Training Loss: 0.4399680495262146 | Testing loss: 0.4392663538455963\n",
      "Epoch: 20 | Training Loss: 0.3247582018375397 | Testing loss: 0.30455657839775085\n",
      "Epoch: 30 | Training Loss: 0.20954827964305878 | Testing loss: 0.16984674334526062\n",
      "Epoch: 40 | Training Loss: 0.09433844685554504 | Testing loss: 0.03513689711689949\n",
      "Epoch: 50 | Training Loss: 0.023886386305093765 | Testing loss: 0.04784906655550003\n",
      "Epoch: 60 | Training Loss: 0.0199567973613739 | Testing loss: 0.04580312222242355\n",
      "Epoch: 70 | Training Loss: 0.016517987474799156 | Testing loss: 0.0375305712223053\n",
      "Epoch: 80 | Training Loss: 0.013089170679450035 | Testing loss: 0.029944902285933495\n",
      "Epoch: 90 | Training Loss: 0.009653178043663502 | Testing loss: 0.02167237363755703\n",
      "Epoch: 100 | Training Loss: 0.006215679459273815 | Testing loss: 0.014086711220443249\n",
      "Epoch: 110 | Training Loss: 0.002787243574857712 | Testing loss: 0.005814164876937866\n",
      "Epoch: 120 | Training Loss: 0.0012645035749301314 | Testing loss: 0.013801807537674904\n",
      "Epoch: 130 | Training Loss: 0.0012645035749301314 | Testing loss: 0.013801807537674904\n",
      "Epoch: 140 | Training Loss: 0.0012645035749301314 | Testing loss: 0.013801807537674904\n",
      "Epoch: 150 | Training Loss: 0.0012645035749301314 | Testing loss: 0.013801807537674904\n",
      "Epoch: 160 | Training Loss: 0.0012645035749301314 | Testing loss: 0.013801807537674904\n",
      "Epoch: 170 | Training Loss: 0.0012645035749301314 | Testing loss: 0.013801807537674904\n",
      "Epoch: 180 | Training Loss: 0.0012645035749301314 | Testing loss: 0.013801807537674904\n",
      "Epoch: 190 | Training Loss: 0.0012645035749301314 | Testing loss: 0.013801807537674904\n"
     ]
    }
   ],
   "source": [
    "torch.manual_seed(42)\n",
    "\n",
    "epochs = 200\n",
    "\n",
    "for epoch in range(epochs):\n",
    "    \n",
    "    model_1.train()\n",
    "    \n",
    "    ## 1. Forward pass\n",
    "    y_pred = model_1(X_train)\n",
    "    \n",
    "    ## 2. Calculate the loss\n",
    "    loss = loss_fn(y_pred,y_train)\n",
    "    \n",
    "    ## 3. Optimizer zero grad\n",
    "    optimizer.zero_grad()\n",
    "    \n",
    "    ## 4. Perform backpropagation\n",
    "    loss.backward()\n",
    "    \n",
    "    ## 5.Optimizer step\n",
    "    optimizer.step()\n",
    "    \n",
    "    ## Testing\n",
    "    model_1.eval()\n",
    "    \n",
    "    with torch.inference_mode():\n",
    "        test_pred = model_1(X_test)\n",
    "        \n",
    "        test_loss = loss_fn(test_pred,y_test)\n",
    "    \n",
    "    if epoch%10 == 0:\n",
    "        print(f'Epoch: {epoch} | Training Loss: {loss} | Testing loss: {test_loss}')\n",
    "    "
   ]
  },
  {
   "cell_type": "code",
   "execution_count": 21,
   "id": "986063ed",
   "metadata": {},
   "outputs": [
    {
     "data": {
      "text/plain": [
       "OrderedDict([('linear_layer.weight', tensor([[0.6968]])),\n",
       "             ('linear_layer.bias', tensor([0.3025]))])"
      ]
     },
     "execution_count": 21,
     "metadata": {},
     "output_type": "execute_result"
    }
   ],
   "source": [
    "model_1.state_dict()"
   ]
  },
  {
   "cell_type": "code",
   "execution_count": 22,
   "id": "4210d548",
   "metadata": {},
   "outputs": [
    {
     "data": {
      "text/plain": [
       "(0.7, 0.3)"
      ]
     },
     "execution_count": 22,
     "metadata": {},
     "output_type": "execute_result"
    }
   ],
   "source": [
    "weight, bias"
   ]
  },
  {
   "cell_type": "markdown",
   "id": "8211c9ff",
   "metadata": {},
   "source": [
    "##  Making and evaluating predictions"
   ]
  },
  {
   "cell_type": "code",
   "execution_count": 23,
   "id": "61917eb2",
   "metadata": {},
   "outputs": [
    {
     "data": {
      "text/plain": [
       "tensor([[0.8600],\n",
       "        [0.8739],\n",
       "        [0.8878],\n",
       "        [0.9018],\n",
       "        [0.9157],\n",
       "        [0.9296],\n",
       "        [0.9436],\n",
       "        [0.9575],\n",
       "        [0.9714],\n",
       "        [0.9854]])"
      ]
     },
     "execution_count": 23,
     "metadata": {},
     "output_type": "execute_result"
    }
   ],
   "source": [
    "## Turn model into evaluation mode\n",
    "model_1.eval()\n",
    "\n",
    "## Make predictions on the test data\n",
    "\n",
    "with torch.inference_mode():\n",
    "    y_preds = model_1(X_test)\n",
    "y_preds"
   ]
  },
  {
   "cell_type": "code",
   "execution_count": 24,
   "id": "7edaa947",
   "metadata": {},
   "outputs": [
    {
     "data": {
      "image/png": "[encoded data removed]",
      "text/plain": [
       "<Figure size 1500x1000 with 1 Axes>"
      ]
     },
     "metadata": {},
     "output_type": "display_data"
    }
   ],
   "source": [
    "plot_predictions(predictions=y_preds.cpu()) ## device agnostic code"
   ]
  },
  {
   "cell_type": "markdown",
   "id": "35e3cba1",
   "metadata": {},
   "source": [
    "# Saving and loading model"
   ]
  },
  {
   "cell_type": "code",
   "execution_count": 25,
   "id": "d658d30a",
   "metadata": {},
   "outputs": [],
   "source": [
    "from pathlib import Path"
   ]
  },
  {
   "cell_type": "code",
   "execution_count": 28,
   "id": "37e2341b",
   "metadata": {},
   "outputs": [
    {
     "name": "stdout",
     "output_type": "stream",
     "text": [
      "Saving model to : models\\01_pytorch_workflow_model_1.pth\n"
     ]
    }
   ],
   "source": [
    "# 1. Create model directory\n",
    "\n",
    "MODEL_PATH = Path('models')\n",
    "MODEL_PATH.mkdir(parents=True, exist_ok=True)\n",
    "\n",
    "# 2. Create model save path\n",
    "MODEL_NAME = '01_pytorch_workflow_model_1.pth'\n",
    "MODEL_SAVE_PATH = MODEL_PATH / MODEL_NAME\n",
    "\n",
    "# 3. Save the model state dict\n",
    "print(f'Saving model to : {MODEL_SAVE_PATH}')\n",
    "torch.save(obj=model_1.state_dict(), \n",
    "           f=MODEL_SAVE_PATH)"
   ]
  },
  {
   "cell_type": "code",
   "execution_count": 29,
   "id": "ffb59cdc",
   "metadata": {},
   "outputs": [
    {
     "data": {
      "text/plain": [
       "LinearRegressionModelV2(\n",
       "  (linear_layer): Linear(in_features=1, out_features=1, bias=True)\n",
       ")"
      ]
     },
     "execution_count": 29,
     "metadata": {},
     "output_type": "execute_result"
    }
   ],
   "source": [
    "## Load a pytorch model\n",
    "\n",
    "## Create a new instance of LRv2\n",
    "loaded_model_1 = LinearRegressionModelV2()\n",
    "\n",
    "## Load the saved model_1 state dict\n",
    "loaded_model_1.load_state_dict(torch.load(MODEL_SAVE_PATH))\n",
    "\n",
    "## put the loaded model to device\n",
    "\n",
    "loaded_model_1.to(device)\n"
   ]
  },
  {
   "cell_type": "code",
   "execution_count": 30,
   "id": "5881ecd8",
   "metadata": {},
   "outputs": [
    {
     "data": {
      "text/plain": [
       "OrderedDict([('linear_layer.weight', tensor([[0.6968]])),\n",
       "             ('linear_layer.bias', tensor([0.3025]))])"
      ]
     },
     "execution_count": 30,
     "metadata": {},
     "output_type": "execute_result"
    }
   ],
   "source": [
    "loaded_model_1.state_dict()"
   ]
  },
  {
   "cell_type": "code",
   "execution_count": 32,
   "id": "7b78bf26",
   "metadata": {},
   "outputs": [
    {
     "data": {
      "text/plain": [
       "tensor([[True],\n",
       "        [True],\n",
       "        [True],\n",
       "        [True],\n",
       "        [True],\n",
       "        [True],\n",
       "        [True],\n",
       "        [True],\n",
       "        [True],\n",
       "        [True]])"
      ]
     },
     "execution_count": 32,
     "metadata": {},
     "output_type": "execute_result"
    }
   ],
   "source": [
    "## Evaluate loaded model\n",
    "\n",
    "loaded_model_1.eval()\n",
    "with torch.inference_mode():\n",
    "    loaded_model_1_preds = loaded_model_1(X_test)\n",
    "    \n",
    "y_preds == loaded_model_1_preds"
   ]
  },
  {
   "cell_type": "code",
   "execution_count": null,
   "id": "c2c241f2",
   "metadata": {},
   "outputs": [],
   "source": []
  },
  {
   "cell_type": "code",
   "execution_count": null,
   "id": "eb815d0b",
   "metadata": {},
   "outputs": [],
   "source": []
  },
  {
   "cell_type": "code",
   "execution_count": null,
   "id": "e8fd7b46",
   "metadata": {},
   "outputs": [],
   "source": []
  },
  {
   "cell_type": "code",
   "execution_count": null,
   "id": "3342f83b",
   "metadata": {},
   "outputs": [],
   "source": []
  },
  {
   "cell_type": "code",
   "execution_count": null,
   "id": "b69d62a5",
   "metadata": {},
   "outputs": [],
   "source": []
  }
 ],
 "metadata": {
  "kernelspec": {
   "display_name": "Python 3 (ipykernel)",
   "language": "python",
   "name": "python3"
  },
  "language_info": {
   "codemirror_mode": {
    "name": "ipython",
    "version": 3
   },
   "file_extension": ".py",
   "mimetype": "text/x-python",
   "name": "python",
   "nbconvert_exporter": "python",
   "pygments_lexer": "ipython3",
   "version": "3.11.5"
  }
 },
 "nbformat": 4,
 "nbformat_minor": 5
}
